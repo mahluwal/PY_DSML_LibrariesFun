{
  "nbformat": 4,
  "nbformat_minor": 0,
  "metadata": {
    "kernelspec": {
      "display_name": "Python 3",
      "language": "python",
      "name": "python3"
    },
    "language_info": {
      "codemirror_mode": {
        "name": "ipython",
        "version": 3
      },
      "file_extension": ".py",
      "mimetype": "text/x-python",
      "name": "python",
      "nbconvert_exporter": "python",
      "pygments_lexer": "ipython3",
      "version": "3.6.8"
    },
    "colab": {
      "name": "numpy.ipynb",
      "provenance": [],
      "include_colab_link": true
    }
  },
  "cells": [
    {
      "cell_type": "markdown",
      "metadata": {
        "id": "view-in-github",
        "colab_type": "text"
      },
      "source": [
        "<a href=\"https://colab.research.google.com/github/mahluwal/PY_DSML_LibrariesFun/blob/main/numpy.ipynb\" target=\"_parent\"><img src=\"https://colab.research.google.com/assets/colab-badge.svg\" alt=\"Open In Colab\"/></a>"
      ]
    },
    {
      "cell_type": "code",
      "metadata": {
        "id": "jnHRunVMsfb-"
      },
      "source": [
        "import numpy as np"
      ],
      "execution_count": 2,
      "outputs": []
    },
    {
      "cell_type": "code",
      "metadata": {
        "id": "LpWEGzBesfcE"
      },
      "source": [
        "lst = [1, 2, 3]"
      ],
      "execution_count": 3,
      "outputs": []
    },
    {
      "cell_type": "code",
      "metadata": {
        "colab": {
          "base_uri": "https://localhost:8080/"
        },
        "id": "G7ujKGGmsfcG",
        "outputId": "24bd5a71-319c-40c1-8cdf-909db945ada1"
      },
      "source": [
        "type(lst)"
      ],
      "execution_count": 4,
      "outputs": [
        {
          "output_type": "execute_result",
          "data": {
            "text/plain": [
              "list"
            ]
          },
          "metadata": {
            "tags": []
          },
          "execution_count": 4
        }
      ]
    },
    {
      "cell_type": "code",
      "metadata": {
        "id": "fN_Gh7PksfcH"
      },
      "source": [
        "arr = np.array([1, 2, 3, 45, 6])"
      ],
      "execution_count": 5,
      "outputs": []
    },
    {
      "cell_type": "code",
      "metadata": {
        "colab": {
          "base_uri": "https://localhost:8080/"
        },
        "id": "wIe9I0JssfcI",
        "outputId": "f68a33b3-a69f-400c-8aeb-9ce93f0e9d8f"
      },
      "source": [
        "type(arr)"
      ],
      "execution_count": 6,
      "outputs": [
        {
          "output_type": "execute_result",
          "data": {
            "text/plain": [
              "numpy.ndarray"
            ]
          },
          "metadata": {
            "tags": []
          },
          "execution_count": 6
        }
      ]
    },
    {
      "cell_type": "code",
      "metadata": {
        "colab": {
          "base_uri": "https://localhost:8080/"
        },
        "id": "VepayMxAsfcJ",
        "outputId": "da3aac24-647e-4149-a779-b326f5b13553"
      },
      "source": [
        "arr"
      ],
      "execution_count": 7,
      "outputs": [
        {
          "output_type": "execute_result",
          "data": {
            "text/plain": [
              "array([ 1,  2,  3, 45,  6])"
            ]
          },
          "metadata": {
            "tags": []
          },
          "execution_count": 7
        }
      ]
    },
    {
      "cell_type": "code",
      "metadata": {
        "colab": {
          "base_uri": "https://localhost:8080/"
        },
        "id": "fnt07n6FsfcK",
        "outputId": "116630d4-0cab-4d51-ef6c-3738c73c6907"
      },
      "source": [
        "[x**3 for x in range(0, 10)]"
      ],
      "execution_count": 8,
      "outputs": [
        {
          "output_type": "execute_result",
          "data": {
            "text/plain": [
              "[0, 1, 8, 27, 64, 125, 216, 343, 512, 729]"
            ]
          },
          "metadata": {
            "tags": []
          },
          "execution_count": 8
        }
      ]
    },
    {
      "cell_type": "code",
      "metadata": {
        "id": "kZMMA08nsfcM"
      },
      "source": [
        "arr1 = np.array([x**3 for x in range(0, 10)])"
      ],
      "execution_count": 9,
      "outputs": []
    },
    {
      "cell_type": "code",
      "metadata": {
        "colab": {
          "base_uri": "https://localhost:8080/"
        },
        "id": "g1bpq1HRsfcN",
        "outputId": "5187f2b5-17e7-4a60-b903-ee98db5750df"
      },
      "source": [
        "arr1"
      ],
      "execution_count": 10,
      "outputs": [
        {
          "output_type": "execute_result",
          "data": {
            "text/plain": [
              "array([  0,   1,   8,  27,  64, 125, 216, 343, 512, 729])"
            ]
          },
          "metadata": {
            "tags": []
          },
          "execution_count": 10
        }
      ]
    },
    {
      "cell_type": "code",
      "metadata": {
        "id": "iVdfZQNfsfcP"
      },
      "source": [
        "l2d = [[1, 2, 3], [4, 5, 6], [7, 8, 9]]"
      ],
      "execution_count": 11,
      "outputs": []
    },
    {
      "cell_type": "code",
      "metadata": {
        "colab": {
          "base_uri": "https://localhost:8080/"
        },
        "id": "p-bmUHaTsfca",
        "outputId": "5e3aa748-96f5-4802-ad11-6a0863ff1cfc"
      },
      "source": [
        "np.array(l2d)"
      ],
      "execution_count": 12,
      "outputs": [
        {
          "output_type": "execute_result",
          "data": {
            "text/plain": [
              "array([[1, 2, 3],\n",
              "       [4, 5, 6],\n",
              "       [7, 8, 9]])"
            ]
          },
          "metadata": {
            "tags": []
          },
          "execution_count": 12
        }
      ]
    },
    {
      "cell_type": "code",
      "metadata": {
        "id": "GwF9Z3p9sfcb"
      },
      "source": [
        "l2d = [[1, 2, 3], [4, 5, 6, 0], [7, 8, 9]]"
      ],
      "execution_count": 13,
      "outputs": []
    },
    {
      "cell_type": "code",
      "metadata": {
        "colab": {
          "base_uri": "https://localhost:8080/"
        },
        "id": "K3PdR-g1sfcc",
        "outputId": "7d9d0c57-4b5f-4d3d-be98-93dca2496d8c"
      },
      "source": [
        "type(l2d)"
      ],
      "execution_count": 14,
      "outputs": [
        {
          "output_type": "execute_result",
          "data": {
            "text/plain": [
              "list"
            ]
          },
          "metadata": {
            "tags": []
          },
          "execution_count": 14
        }
      ]
    },
    {
      "cell_type": "code",
      "metadata": {
        "colab": {
          "base_uri": "https://localhost:8080/"
        },
        "id": "dmSQbV7Ysfcd",
        "outputId": "9d5a282d-ee6b-4f2f-bbb1-6fc97ae6a784"
      },
      "source": [
        "darr = np.array(l2d)"
      ],
      "execution_count": 15,
      "outputs": [
        {
          "output_type": "stream",
          "text": [
            "/usr/local/lib/python3.7/dist-packages/ipykernel_launcher.py:1: VisibleDeprecationWarning: Creating an ndarray from ragged nested sequences (which is a list-or-tuple of lists-or-tuples-or ndarrays with different lengths or shapes) is deprecated. If you meant to do this, you must specify 'dtype=object' when creating the ndarray\n",
            "  \"\"\"Entry point for launching an IPython kernel.\n"
          ],
          "name": "stderr"
        }
      ]
    },
    {
      "cell_type": "code",
      "metadata": {
        "colab": {
          "base_uri": "https://localhost:8080/"
        },
        "id": "XutvFyTpsfcd",
        "outputId": "db58a2b9-ccc8-4e28-8fec-909c7bf73f7e"
      },
      "source": [
        "darr[0]"
      ],
      "execution_count": 16,
      "outputs": [
        {
          "output_type": "execute_result",
          "data": {
            "text/plain": [
              "[1, 2, 3]"
            ]
          },
          "metadata": {
            "tags": []
          },
          "execution_count": 16
        }
      ]
    },
    {
      "cell_type": "code",
      "metadata": {
        "colab": {
          "base_uri": "https://localhost:8080/"
        },
        "id": "nEwtBVyJsfce",
        "outputId": "cc15021d-989a-4d90-e1e4-2264c4599cd2"
      },
      "source": [
        "type(darr[0])"
      ],
      "execution_count": 17,
      "outputs": [
        {
          "output_type": "execute_result",
          "data": {
            "text/plain": [
              "list"
            ]
          },
          "metadata": {
            "tags": []
          },
          "execution_count": 17
        }
      ]
    },
    {
      "cell_type": "code",
      "metadata": {
        "colab": {
          "base_uri": "https://localhost:8080/"
        },
        "id": "qCUKlJ5Gsfcf",
        "outputId": "4938fc3a-ad44-4813-b9b4-489374a3373a"
      },
      "source": [
        "list(range(0, 10))"
      ],
      "execution_count": 18,
      "outputs": [
        {
          "output_type": "execute_result",
          "data": {
            "text/plain": [
              "[0, 1, 2, 3, 4, 5, 6, 7, 8, 9]"
            ]
          },
          "metadata": {
            "tags": []
          },
          "execution_count": 18
        }
      ]
    },
    {
      "cell_type": "code",
      "metadata": {
        "colab": {
          "base_uri": "https://localhost:8080/"
        },
        "id": "uOKtBP1Dsfcg",
        "outputId": "6d1537be-d100-407d-8585-06d77eee6bcd"
      },
      "source": [
        "np.arange(1, 20, 4)"
      ],
      "execution_count": 19,
      "outputs": [
        {
          "output_type": "execute_result",
          "data": {
            "text/plain": [
              "array([ 1,  5,  9, 13, 17])"
            ]
          },
          "metadata": {
            "tags": []
          },
          "execution_count": 19
        }
      ]
    },
    {
      "cell_type": "code",
      "metadata": {
        "colab": {
          "base_uri": "https://localhost:8080/"
        },
        "id": "XVx-R5GPsfcg",
        "outputId": "af00637b-b55c-42b3-9ac0-e05671bcb911"
      },
      "source": [
        "np.zeros(9)"
      ],
      "execution_count": 20,
      "outputs": [
        {
          "output_type": "execute_result",
          "data": {
            "text/plain": [
              "array([0., 0., 0., 0., 0., 0., 0., 0., 0.])"
            ]
          },
          "metadata": {
            "tags": []
          },
          "execution_count": 20
        }
      ]
    },
    {
      "cell_type": "code",
      "metadata": {
        "colab": {
          "base_uri": "https://localhost:8080/"
        },
        "id": "YBHR49aksfcg",
        "outputId": "c55e299f-a570-41ae-b3f6-2daf4321e72d"
      },
      "source": [
        "arr2d = np.zeros((3, 5))\n",
        "arr2d"
      ],
      "execution_count": 21,
      "outputs": [
        {
          "output_type": "execute_result",
          "data": {
            "text/plain": [
              "array([[0., 0., 0., 0., 0.],\n",
              "       [0., 0., 0., 0., 0.],\n",
              "       [0., 0., 0., 0., 0.]])"
            ]
          },
          "metadata": {
            "tags": []
          },
          "execution_count": 21
        }
      ]
    },
    {
      "cell_type": "code",
      "metadata": {
        "colab": {
          "base_uri": "https://localhost:8080/"
        },
        "id": "TK2xYViGsfch",
        "outputId": "962acc38-5958-4384-d2f9-9db755fecd14"
      },
      "source": [
        "arr2d[1][1]"
      ],
      "execution_count": 22,
      "outputs": [
        {
          "output_type": "execute_result",
          "data": {
            "text/plain": [
              "0.0"
            ]
          },
          "metadata": {
            "tags": []
          },
          "execution_count": 22
        }
      ]
    },
    {
      "cell_type": "code",
      "metadata": {
        "colab": {
          "base_uri": "https://localhost:8080/"
        },
        "id": "rVwdVWCCsfch",
        "outputId": "12fe141b-3fcf-404f-b6ca-80f25dac4fd3"
      },
      "source": [
        "arr3d = np.zeros((3, 5, 6))\n",
        "arr3d"
      ],
      "execution_count": 23,
      "outputs": [
        {
          "output_type": "execute_result",
          "data": {
            "text/plain": [
              "array([[[0., 0., 0., 0., 0., 0.],\n",
              "        [0., 0., 0., 0., 0., 0.],\n",
              "        [0., 0., 0., 0., 0., 0.],\n",
              "        [0., 0., 0., 0., 0., 0.],\n",
              "        [0., 0., 0., 0., 0., 0.]],\n",
              "\n",
              "       [[0., 0., 0., 0., 0., 0.],\n",
              "        [0., 0., 0., 0., 0., 0.],\n",
              "        [0., 0., 0., 0., 0., 0.],\n",
              "        [0., 0., 0., 0., 0., 0.],\n",
              "        [0., 0., 0., 0., 0., 0.]],\n",
              "\n",
              "       [[0., 0., 0., 0., 0., 0.],\n",
              "        [0., 0., 0., 0., 0., 0.],\n",
              "        [0., 0., 0., 0., 0., 0.],\n",
              "        [0., 0., 0., 0., 0., 0.],\n",
              "        [0., 0., 0., 0., 0., 0.]]])"
            ]
          },
          "metadata": {
            "tags": []
          },
          "execution_count": 23
        }
      ]
    },
    {
      "cell_type": "code",
      "metadata": {
        "id": "TpzgFB4Ysfci"
      },
      "source": [
        "sub_arr = arr3d[2][3][5]"
      ],
      "execution_count": 24,
      "outputs": []
    },
    {
      "cell_type": "code",
      "metadata": {
        "id": "N1LyIwuPsfci"
      },
      "source": [
        "arr3d[2, 3, 5]  = 99"
      ],
      "execution_count": 25,
      "outputs": []
    },
    {
      "cell_type": "code",
      "metadata": {
        "colab": {
          "base_uri": "https://localhost:8080/"
        },
        "id": "xVmG3csNsfcj",
        "outputId": "d8c39bbf-5607-40a7-8cda-b41b3e7b25a6"
      },
      "source": [
        "arr3d"
      ],
      "execution_count": 26,
      "outputs": [
        {
          "output_type": "execute_result",
          "data": {
            "text/plain": [
              "array([[[ 0.,  0.,  0.,  0.,  0.,  0.],\n",
              "        [ 0.,  0.,  0.,  0.,  0.,  0.],\n",
              "        [ 0.,  0.,  0.,  0.,  0.,  0.],\n",
              "        [ 0.,  0.,  0.,  0.,  0.,  0.],\n",
              "        [ 0.,  0.,  0.,  0.,  0.,  0.]],\n",
              "\n",
              "       [[ 0.,  0.,  0.,  0.,  0.,  0.],\n",
              "        [ 0.,  0.,  0.,  0.,  0.,  0.],\n",
              "        [ 0.,  0.,  0.,  0.,  0.,  0.],\n",
              "        [ 0.,  0.,  0.,  0.,  0.,  0.],\n",
              "        [ 0.,  0.,  0.,  0.,  0.,  0.]],\n",
              "\n",
              "       [[ 0.,  0.,  0.,  0.,  0.,  0.],\n",
              "        [ 0.,  0.,  0.,  0.,  0.,  0.],\n",
              "        [ 0.,  0.,  0.,  0.,  0.,  0.],\n",
              "        [ 0.,  0.,  0.,  0.,  0., 99.],\n",
              "        [ 0.,  0.,  0.,  0.,  0.,  0.]]])"
            ]
          },
          "metadata": {
            "tags": []
          },
          "execution_count": 26
        }
      ]
    },
    {
      "cell_type": "code",
      "metadata": {
        "colab": {
          "base_uri": "https://localhost:8080/"
        },
        "id": "DN024AIksfcj",
        "outputId": "fb720739-479d-4f15-89f2-a5c185f6365c"
      },
      "source": [
        "np.ones((3, 5))*5 - 2"
      ],
      "execution_count": 27,
      "outputs": [
        {
          "output_type": "execute_result",
          "data": {
            "text/plain": [
              "array([[3., 3., 3., 3., 3.],\n",
              "       [3., 3., 3., 3., 3.],\n",
              "       [3., 3., 3., 3., 3.]])"
            ]
          },
          "metadata": {
            "tags": []
          },
          "execution_count": 27
        }
      ]
    },
    {
      "cell_type": "code",
      "metadata": {
        "colab": {
          "base_uri": "https://localhost:8080/"
        },
        "id": "uIZ1BTWisfcj",
        "outputId": "d8ef992e-5695-402b-c9b7-67d8062d7ab9"
      },
      "source": [
        "np.linspace(0, 9, 5)"
      ],
      "execution_count": 28,
      "outputs": [
        {
          "output_type": "execute_result",
          "data": {
            "text/plain": [
              "array([0.  , 2.25, 4.5 , 6.75, 9.  ])"
            ]
          },
          "metadata": {
            "tags": []
          },
          "execution_count": 28
        }
      ]
    },
    {
      "cell_type": "code",
      "metadata": {
        "colab": {
          "base_uri": "https://localhost:8080/"
        },
        "id": "5VUkkMqbsfck",
        "outputId": "40b1ca0d-7423-45f2-b64d-e811bef3ba9e"
      },
      "source": [
        "np.linspace(0, 1, 100)"
      ],
      "execution_count": 29,
      "outputs": [
        {
          "output_type": "execute_result",
          "data": {
            "text/plain": [
              "array([0.        , 0.01010101, 0.02020202, 0.03030303, 0.04040404,\n",
              "       0.05050505, 0.06060606, 0.07070707, 0.08080808, 0.09090909,\n",
              "       0.1010101 , 0.11111111, 0.12121212, 0.13131313, 0.14141414,\n",
              "       0.15151515, 0.16161616, 0.17171717, 0.18181818, 0.19191919,\n",
              "       0.2020202 , 0.21212121, 0.22222222, 0.23232323, 0.24242424,\n",
              "       0.25252525, 0.26262626, 0.27272727, 0.28282828, 0.29292929,\n",
              "       0.3030303 , 0.31313131, 0.32323232, 0.33333333, 0.34343434,\n",
              "       0.35353535, 0.36363636, 0.37373737, 0.38383838, 0.39393939,\n",
              "       0.4040404 , 0.41414141, 0.42424242, 0.43434343, 0.44444444,\n",
              "       0.45454545, 0.46464646, 0.47474747, 0.48484848, 0.49494949,\n",
              "       0.50505051, 0.51515152, 0.52525253, 0.53535354, 0.54545455,\n",
              "       0.55555556, 0.56565657, 0.57575758, 0.58585859, 0.5959596 ,\n",
              "       0.60606061, 0.61616162, 0.62626263, 0.63636364, 0.64646465,\n",
              "       0.65656566, 0.66666667, 0.67676768, 0.68686869, 0.6969697 ,\n",
              "       0.70707071, 0.71717172, 0.72727273, 0.73737374, 0.74747475,\n",
              "       0.75757576, 0.76767677, 0.77777778, 0.78787879, 0.7979798 ,\n",
              "       0.80808081, 0.81818182, 0.82828283, 0.83838384, 0.84848485,\n",
              "       0.85858586, 0.86868687, 0.87878788, 0.88888889, 0.8989899 ,\n",
              "       0.90909091, 0.91919192, 0.92929293, 0.93939394, 0.94949495,\n",
              "       0.95959596, 0.96969697, 0.97979798, 0.98989899, 1.        ])"
            ]
          },
          "metadata": {
            "tags": []
          },
          "execution_count": 29
        }
      ]
    },
    {
      "cell_type": "code",
      "metadata": {
        "id": "T-SX2fgDsfcl"
      },
      "source": [
        "arr = np.ones(105)"
      ],
      "execution_count": 30,
      "outputs": []
    },
    {
      "cell_type": "code",
      "metadata": {
        "colab": {
          "base_uri": "https://localhost:8080/"
        },
        "id": "KCtQ_Zqnsfcl",
        "outputId": "a41ab7db-6715-4ce8-badd-8a04841fe29e"
      },
      "source": [
        "arr.reshape(5, 21)"
      ],
      "execution_count": 31,
      "outputs": [
        {
          "output_type": "execute_result",
          "data": {
            "text/plain": [
              "array([[1., 1., 1., 1., 1., 1., 1., 1., 1., 1., 1., 1., 1., 1., 1., 1.,\n",
              "        1., 1., 1., 1., 1.],\n",
              "       [1., 1., 1., 1., 1., 1., 1., 1., 1., 1., 1., 1., 1., 1., 1., 1.,\n",
              "        1., 1., 1., 1., 1.],\n",
              "       [1., 1., 1., 1., 1., 1., 1., 1., 1., 1., 1., 1., 1., 1., 1., 1.,\n",
              "        1., 1., 1., 1., 1.],\n",
              "       [1., 1., 1., 1., 1., 1., 1., 1., 1., 1., 1., 1., 1., 1., 1., 1.,\n",
              "        1., 1., 1., 1., 1.],\n",
              "       [1., 1., 1., 1., 1., 1., 1., 1., 1., 1., 1., 1., 1., 1., 1., 1.,\n",
              "        1., 1., 1., 1., 1.]])"
            ]
          },
          "metadata": {
            "tags": []
          },
          "execution_count": 31
        }
      ]
    },
    {
      "cell_type": "code",
      "metadata": {
        "colab": {
          "base_uri": "https://localhost:8080/"
        },
        "id": "yCRCB71jsfcm",
        "outputId": "d21e4e13-94af-4ea7-f7e1-6cf6abd98b48"
      },
      "source": [
        "np.eye(5)"
      ],
      "execution_count": 32,
      "outputs": [
        {
          "output_type": "execute_result",
          "data": {
            "text/plain": [
              "array([[1., 0., 0., 0., 0.],\n",
              "       [0., 1., 0., 0., 0.],\n",
              "       [0., 0., 1., 0., 0.],\n",
              "       [0., 0., 0., 1., 0.],\n",
              "       [0., 0., 0., 0., 1.]])"
            ]
          },
          "metadata": {
            "tags": []
          },
          "execution_count": 32
        }
      ]
    },
    {
      "cell_type": "code",
      "metadata": {
        "colab": {
          "base_uri": "https://localhost:8080/"
        },
        "id": "s2IuGPF7sfcn",
        "outputId": "0b95ceea-8bfc-4b3f-c14a-5c4bcc58be93"
      },
      "source": [
        "np.random.rand(5, 6)"
      ],
      "execution_count": 33,
      "outputs": [
        {
          "output_type": "execute_result",
          "data": {
            "text/plain": [
              "array([[0.48665916, 0.83914422, 0.1987347 , 0.87904249, 0.75352644,\n",
              "        0.14393587],\n",
              "       [0.06000819, 0.24996218, 0.58924907, 0.80903071, 0.66409048,\n",
              "        0.79247446],\n",
              "       [0.47666738, 0.20367494, 0.72076009, 0.79250598, 0.45443727,\n",
              "        0.00280085],\n",
              "       [0.93797024, 0.49221625, 0.91566586, 0.31202044, 0.70991124,\n",
              "        0.93668655],\n",
              "       [0.76985323, 0.13594197, 0.40166089, 0.66372578, 0.44361573,\n",
              "        0.96636957]])"
            ]
          },
          "metadata": {
            "tags": []
          },
          "execution_count": 33
        }
      ]
    },
    {
      "cell_type": "code",
      "metadata": {
        "colab": {
          "base_uri": "https://localhost:8080/"
        },
        "id": "dPxkwjdWsfcn",
        "outputId": "2e3d4759-a0e8-4b8f-dacf-e259eda7fc1d"
      },
      "source": [
        "np.random.seed(500); np.random.randint(0, 100, (5, 6))"
      ],
      "execution_count": 34,
      "outputs": [
        {
          "output_type": "execute_result",
          "data": {
            "text/plain": [
              "array([[90, 55, 65, 17, 78, 61],\n",
              "       [31, 72, 71, 77, 17, 17],\n",
              "       [85, 41, 34, 42, 18, 19],\n",
              "       [13, 55, 47, 56, 10, 46],\n",
              "       [13,  2, 59, 60, 14, 60]])"
            ]
          },
          "metadata": {
            "tags": []
          },
          "execution_count": 34
        }
      ]
    },
    {
      "cell_type": "code",
      "metadata": {
        "colab": {
          "base_uri": "https://localhost:8080/"
        },
        "id": "dPDe3juEsfco",
        "outputId": "9690a03c-78d4-432b-e04e-ec163451124c"
      },
      "source": [
        "arr = np.arange(25)\n",
        "arr"
      ],
      "execution_count": 35,
      "outputs": [
        {
          "output_type": "execute_result",
          "data": {
            "text/plain": [
              "array([ 0,  1,  2,  3,  4,  5,  6,  7,  8,  9, 10, 11, 12, 13, 14, 15, 16,\n",
              "       17, 18, 19, 20, 21, 22, 23, 24])"
            ]
          },
          "metadata": {
            "tags": []
          },
          "execution_count": 35
        }
      ]
    },
    {
      "cell_type": "code",
      "metadata": {
        "id": "XirsvBvgsfco"
      },
      "source": [
        "np.random.shuffle(arr)"
      ],
      "execution_count": 36,
      "outputs": []
    },
    {
      "cell_type": "code",
      "metadata": {
        "colab": {
          "base_uri": "https://localhost:8080/"
        },
        "id": "yTwnO0Fssfcp",
        "outputId": "2711f897-dfd6-4960-8af9-eca8011f3c9f"
      },
      "source": [
        "arr"
      ],
      "execution_count": 37,
      "outputs": [
        {
          "output_type": "execute_result",
          "data": {
            "text/plain": [
              "array([19, 23,  7, 22, 10,  8, 17, 12,  4,  0, 13,  3, 14,  6,  1, 24, 16,\n",
              "       21,  5, 20, 15, 18,  2,  9, 11])"
            ]
          },
          "metadata": {
            "tags": []
          },
          "execution_count": 37
        }
      ]
    },
    {
      "cell_type": "code",
      "metadata": {
        "colab": {
          "base_uri": "https://localhost:8080/"
        },
        "id": "7uZ5PN74sfcp",
        "outputId": "6a360d5d-bbd6-4c97-ebc2-bb5d4db3fb53"
      },
      "source": [
        "arr.reshape(5, 5)"
      ],
      "execution_count": 38,
      "outputs": [
        {
          "output_type": "execute_result",
          "data": {
            "text/plain": [
              "array([[19, 23,  7, 22, 10],\n",
              "       [ 8, 17, 12,  4,  0],\n",
              "       [13,  3, 14,  6,  1],\n",
              "       [24, 16, 21,  5, 20],\n",
              "       [15, 18,  2,  9, 11]])"
            ]
          },
          "metadata": {
            "tags": []
          },
          "execution_count": 38
        }
      ]
    },
    {
      "cell_type": "code",
      "metadata": {
        "colab": {
          "base_uri": "https://localhost:8080/"
        },
        "id": "jgFsVObdsfcp",
        "outputId": "04bc1e29-99ee-42ea-9823-c65e7b11a57e"
      },
      "source": [
        "arr.min()"
      ],
      "execution_count": 39,
      "outputs": [
        {
          "output_type": "execute_result",
          "data": {
            "text/plain": [
              "0"
            ]
          },
          "metadata": {
            "tags": []
          },
          "execution_count": 39
        }
      ]
    },
    {
      "cell_type": "code",
      "metadata": {
        "colab": {
          "base_uri": "https://localhost:8080/"
        },
        "id": "oPLqJakvsfcp",
        "outputId": "901078d2-e22f-4dcb-9397-0e6bb5ff6074"
      },
      "source": [
        "arr.max()"
      ],
      "execution_count": 40,
      "outputs": [
        {
          "output_type": "execute_result",
          "data": {
            "text/plain": [
              "24"
            ]
          },
          "metadata": {
            "tags": []
          },
          "execution_count": 40
        }
      ]
    },
    {
      "cell_type": "code",
      "metadata": {
        "colab": {
          "base_uri": "https://localhost:8080/"
        },
        "id": "3G3sUybLsfcq",
        "outputId": "473c6287-3b63-4c87-9da2-56163803ec4f"
      },
      "source": [
        "arr.argmax()"
      ],
      "execution_count": 41,
      "outputs": [
        {
          "output_type": "execute_result",
          "data": {
            "text/plain": [
              "15"
            ]
          },
          "metadata": {
            "tags": []
          },
          "execution_count": 41
        }
      ]
    },
    {
      "cell_type": "code",
      "metadata": {
        "colab": {
          "base_uri": "https://localhost:8080/"
        },
        "id": "NmoFbRpcsfcq",
        "outputId": "5d1edb36-2dc2-430c-b6eb-2ebcf46cebf6"
      },
      "source": [
        "arr.argmin()"
      ],
      "execution_count": 42,
      "outputs": [
        {
          "output_type": "execute_result",
          "data": {
            "text/plain": [
              "9"
            ]
          },
          "metadata": {
            "tags": []
          },
          "execution_count": 42
        }
      ]
    },
    {
      "cell_type": "code",
      "metadata": {
        "id": "CweNw0NNsfcr"
      },
      "source": [
        "arr.sort()"
      ],
      "execution_count": 43,
      "outputs": []
    },
    {
      "cell_type": "code",
      "metadata": {
        "id": "YP8YV3wesfcs"
      },
      "source": [
        "x = np.linspace(0, 10, 100)"
      ],
      "execution_count": 44,
      "outputs": []
    },
    {
      "cell_type": "code",
      "metadata": {
        "colab": {
          "base_uri": "https://localhost:8080/"
        },
        "id": "D9IdTOdysfct",
        "outputId": "567ad268-ca63-475f-e97e-73fcb9d026b3"
      },
      "source": [
        "arr"
      ],
      "execution_count": 45,
      "outputs": [
        {
          "output_type": "execute_result",
          "data": {
            "text/plain": [
              "array([ 0,  1,  2,  3,  4,  5,  6,  7,  8,  9, 10, 11, 12, 13, 14, 15, 16,\n",
              "       17, 18, 19, 20, 21, 22, 23, 24])"
            ]
          },
          "metadata": {
            "tags": []
          },
          "execution_count": 45
        }
      ]
    },
    {
      "cell_type": "code",
      "metadata": {
        "id": "2JjL8Gdlsfcu"
      },
      "source": [
        "y = np.sin(x)"
      ],
      "execution_count": 46,
      "outputs": []
    },
    {
      "cell_type": "code",
      "metadata": {
        "colab": {
          "base_uri": "https://localhost:8080/"
        },
        "id": "5cL2S4P3sfcu",
        "outputId": "b604eb09-12df-49fa-c82b-00e922b0d29c"
      },
      "source": [
        "y"
      ],
      "execution_count": 47,
      "outputs": [
        {
          "output_type": "execute_result",
          "data": {
            "text/plain": [
              "array([ 0.        ,  0.10083842,  0.20064886,  0.2984138 ,  0.39313661,\n",
              "        0.48385164,  0.56963411,  0.64960951,  0.72296256,  0.78894546,\n",
              "        0.84688556,  0.8961922 ,  0.93636273,  0.96698762,  0.98775469,\n",
              "        0.99845223,  0.99897117,  0.98930624,  0.96955595,  0.93992165,\n",
              "        0.90070545,  0.85230712,  0.79522006,  0.73002623,  0.65739025,\n",
              "        0.57805259,  0.49282204,  0.40256749,  0.30820902,  0.21070855,\n",
              "        0.11106004,  0.01027934, -0.09060615, -0.19056796, -0.28858706,\n",
              "       -0.38366419, -0.47483011, -0.56115544, -0.64176014, -0.7158225 ,\n",
              "       -0.7825875 , -0.84137452, -0.89158426, -0.93270486, -0.96431712,\n",
              "       -0.98609877, -0.99782778, -0.99938456, -0.99075324, -0.97202182,\n",
              "       -0.94338126, -0.90512352, -0.85763861, -0.80141062, -0.73701276,\n",
              "       -0.66510151, -0.58640998, -0.50174037, -0.41195583, -0.31797166,\n",
              "       -0.22074597, -0.12126992, -0.0205576 ,  0.0803643 ,  0.18046693,\n",
              "        0.27872982,  0.37415123,  0.46575841,  0.55261747,  0.63384295,\n",
              "        0.7086068 ,  0.77614685,  0.83577457,  0.8868821 ,  0.92894843,\n",
              "        0.96154471,  0.98433866,  0.99709789,  0.99969234,  0.99209556,\n",
              "        0.97438499,  0.94674118,  0.90944594,  0.86287948,  0.8075165 ,\n",
              "        0.74392141,  0.6727425 ,  0.59470541,  0.51060568,  0.42130064,\n",
              "        0.32770071,  0.23076008,  0.13146699,  0.03083368, -0.07011396,\n",
              "       -0.17034683, -0.26884313, -0.36459873, -0.45663749, -0.54402111])"
            ]
          },
          "metadata": {
            "tags": []
          },
          "execution_count": 47
        }
      ]
    },
    {
      "cell_type": "code",
      "metadata": {
        "id": "0HxQUvi0sfcv"
      },
      "source": [
        "import matplotlib.pyplot as plt"
      ],
      "execution_count": 48,
      "outputs": []
    },
    {
      "cell_type": "code",
      "metadata": {
        "colab": {
          "base_uri": "https://localhost:8080/",
          "height": 283
        },
        "id": "5Y0RB0hdsfcv",
        "outputId": "f0456064-2c6a-4301-ec1d-d6f3043bb8f4"
      },
      "source": [
        "plt.plot(x, y)"
      ],
      "execution_count": 49,
      "outputs": [
        {
          "output_type": "execute_result",
          "data": {
            "text/plain": [
              "[<matplotlib.lines.Line2D at 0x7f9b33eaaf90>]"
            ]
          },
          "metadata": {
            "tags": []
          },
          "execution_count": 49
        },
        {
          "output_type": "display_data",
          "data": {
            "image/png": "[encoded data removed]",
            "text/plain": [
              "<Figure size 432x288 with 1 Axes>"
            ]
          },
          "metadata": {
            "tags": [],
            "needs_background": "light"
          }
        }
      ]
    },
    {
      "cell_type": "code",
      "metadata": {
        "id": "SkDW5e9Hsfcw"
      },
      "source": [
        "arr = np.arange(0, 11)"
      ],
      "execution_count": 50,
      "outputs": []
    },
    {
      "cell_type": "code",
      "metadata": {
        "colab": {
          "base_uri": "https://localhost:8080/"
        },
        "id": "inOUazitsfcw",
        "outputId": "ef30bc40-5a13-4e38-d46b-2a71894fe724"
      },
      "source": [
        "arr"
      ],
      "execution_count": 51,
      "outputs": [
        {
          "output_type": "execute_result",
          "data": {
            "text/plain": [
              "array([ 0,  1,  2,  3,  4,  5,  6,  7,  8,  9, 10])"
            ]
          },
          "metadata": {
            "tags": []
          },
          "execution_count": 51
        }
      ]
    },
    {
      "cell_type": "code",
      "metadata": {
        "colab": {
          "base_uri": "https://localhost:8080/"
        },
        "id": "GRuvnE9Osfcw",
        "outputId": "5f476f6c-994d-4804-eeaf-35dcae615022"
      },
      "source": [
        "arr[1:9:3]"
      ],
      "execution_count": 52,
      "outputs": [
        {
          "output_type": "execute_result",
          "data": {
            "text/plain": [
              "array([1, 4, 7])"
            ]
          },
          "metadata": {
            "tags": []
          },
          "execution_count": 52
        }
      ]
    },
    {
      "cell_type": "code",
      "metadata": {
        "id": "edUOPKXisfcw"
      },
      "source": [
        "arr2= arr[::-1]*100"
      ],
      "execution_count": 53,
      "outputs": []
    },
    {
      "cell_type": "code",
      "metadata": {
        "colab": {
          "base_uri": "https://localhost:8080/"
        },
        "id": "OWUE_kgDsfcx",
        "outputId": "c7ecb831-1c27-4ebc-e11d-d3607a974b24"
      },
      "source": [
        "arr"
      ],
      "execution_count": 54,
      "outputs": [
        {
          "output_type": "execute_result",
          "data": {
            "text/plain": [
              "array([ 0,  1,  2,  3,  4,  5,  6,  7,  8,  9, 10])"
            ]
          },
          "metadata": {
            "tags": []
          },
          "execution_count": 54
        }
      ]
    },
    {
      "cell_type": "code",
      "metadata": {
        "colab": {
          "base_uri": "https://localhost:8080/"
        },
        "id": "zb3eReRtsfcx",
        "outputId": "e5cc5ef7-f548-4deb-8cb8-4c88ec651474"
      },
      "source": [
        "arr2"
      ],
      "execution_count": 55,
      "outputs": [
        {
          "output_type": "execute_result",
          "data": {
            "text/plain": [
              "array([1000,  900,  800,  700,  600,  500,  400,  300,  200,  100,    0])"
            ]
          },
          "metadata": {
            "tags": []
          },
          "execution_count": 55
        }
      ]
    },
    {
      "cell_type": "code",
      "metadata": {
        "colab": {
          "base_uri": "https://localhost:8080/"
        },
        "id": "fy57gJjrsfcy",
        "outputId": "61c64256-c0c1-4dab-e02b-da337df6af37"
      },
      "source": [
        "arr*arr2"
      ],
      "execution_count": 56,
      "outputs": [
        {
          "output_type": "execute_result",
          "data": {
            "text/plain": [
              "array([   0,  900, 1600, 2100, 2400, 2500, 2400, 2100, 1600,  900,    0])"
            ]
          },
          "metadata": {
            "tags": []
          },
          "execution_count": 56
        }
      ]
    },
    {
      "cell_type": "code",
      "metadata": {
        "colab": {
          "base_uri": "https://localhost:8080/",
          "height": 171
        },
        "id": "jCDY_0Kfsfcy",
        "outputId": "a502cc6b-4542-4974-d470-1e85512f3499"
      },
      "source": [
        "1/0"
      ],
      "execution_count": 57,
      "outputs": [
        {
          "output_type": "error",
          "ename": "ZeroDivisionError",
          "evalue": "ignored",
          "traceback": [
            "\u001b[0;31m---------------------------------------------------------------------------\u001b[0m",
            "\u001b[0;31mZeroDivisionError\u001b[0m                         Traceback (most recent call last)",
            "\u001b[0;32m<ipython-input-57-9e1622b385b6>\u001b[0m in \u001b[0;36m<module>\u001b[0;34m()\u001b[0m\n\u001b[0;32m----> 1\u001b[0;31m \u001b[0;36m1\u001b[0m\u001b[0;34m/\u001b[0m\u001b[0;36m0\u001b[0m\u001b[0;34m\u001b[0m\u001b[0;34m\u001b[0m\u001b[0m\n\u001b[0m",
            "\u001b[0;31mZeroDivisionError\u001b[0m: division by zero"
          ]
        }
      ]
    },
    {
      "cell_type": "code",
      "metadata": {
        "id": "MR5kCiTVsfcy"
      },
      "source": [
        "arr = np.array([0, 1, 3, 5])"
      ],
      "execution_count": 58,
      "outputs": []
    },
    {
      "cell_type": "code",
      "metadata": {
        "colab": {
          "base_uri": "https://localhost:8080/"
        },
        "id": "Hg0df4bqsfcy",
        "outputId": "16fb9e94-2416-4c31-91f4-ff86ea96af5d"
      },
      "source": [
        "1/arr"
      ],
      "execution_count": 59,
      "outputs": [
        {
          "output_type": "stream",
          "text": [
            "/usr/local/lib/python3.7/dist-packages/ipykernel_launcher.py:1: RuntimeWarning: divide by zero encountered in true_divide\n",
            "  \"\"\"Entry point for launching an IPython kernel.\n"
          ],
          "name": "stderr"
        },
        {
          "output_type": "execute_result",
          "data": {
            "text/plain": [
              "array([       inf, 1.        , 0.33333333, 0.2       ])"
            ]
          },
          "metadata": {
            "tags": []
          },
          "execution_count": 59
        }
      ]
    },
    {
      "cell_type": "code",
      "metadata": {
        "colab": {
          "base_uri": "https://localhost:8080/"
        },
        "id": "3o98XSpZsfcz",
        "outputId": "18ad9b9e-7668-4ae3-e481-05b219567d5e"
      },
      "source": [
        "np.log(6)"
      ],
      "execution_count": 60,
      "outputs": [
        {
          "output_type": "execute_result",
          "data": {
            "text/plain": [
              "1.791759469228055"
            ]
          },
          "metadata": {
            "tags": []
          },
          "execution_count": 60
        }
      ]
    },
    {
      "cell_type": "code",
      "metadata": {
        "id": "kgZuVYrcsfc1"
      },
      "source": [
        ""
      ],
      "execution_count": null,
      "outputs": []
    }
  ]
}