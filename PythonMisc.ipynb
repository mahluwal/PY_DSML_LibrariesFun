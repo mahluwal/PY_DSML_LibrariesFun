{
  "nbformat": 4,
  "nbformat_minor": 0,
  "metadata": {
    "colab": {
      "name": "PythonMisc",
      "provenance": [],
      "collapsed_sections": [],
      "authorship_tag": "ABX9TyPtTlZrEPVaTHag42fFS31X",
      "include_colab_link": true
    },
    "kernelspec": {
      "name": "python3",
      "display_name": "Python 3"
    },
    "language_info": {
      "name": "python"
    }
  },
  "cells": [
    {
      "cell_type": "markdown",
      "metadata": {
        "id": "view-in-github",
        "colab_type": "text"
      },
      "source": [
        "<a href=\"https://colab.research.google.com/github/mahluwal/PY_DSML_LibrariesFun/blob/main/PythonMisc.ipynb\" target=\"_parent\"><img src=\"https://colab.research.google.com/assets/colab-badge.svg\" alt=\"Open In Colab\"/></a>"
      ]
    },
    {
      "cell_type": "code",
      "metadata": {
        "colab": {
          "base_uri": "https://localhost:8080/"
        },
        "id": "6SoK2NX8VmKV",
        "outputId": "021c18ab-c61d-4ad2-8ced-ec496a39b5cd"
      },
      "source": [
        "import random\n",
        "#to randomly shuffle items of a list\n",
        "x=[1,2,3,4,5,6,7,8,9,10]\n",
        "random.shuffle(x)\n",
        "x"
      ],
      "execution_count": 8,
      "outputs": [
        {
          "output_type": "execute_result",
          "data": {
            "text/plain": [
              "[4, 10, 2, 3, 5, 6, 8, 7, 9, 1]"
            ]
          },
          "metadata": {
            "tags": []
          },
          "execution_count": 8
        }
      ]
    },
    {
      "cell_type": "code",
      "metadata": {
        "colab": {
          "base_uri": "https://localhost:8080/"
        },
        "id": "xcika58_WTOc",
        "outputId": "83df9d86-5513-4c9e-ee6f-a722696cf61c"
      },
      "source": [
        "#Get length of a string without using len function\n",
        "a=\"Opthalmology\"\n",
        "count=0\n",
        "for i in a:\n",
        "  count+=1\n",
        "print(count)\n",
        "   \n"
      ],
      "execution_count": 9,
      "outputs": [
        {
          "output_type": "stream",
          "text": [
            "12\n"
          ],
          "name": "stdout"
        }
      ]
    },
    {
      "cell_type": "code",
      "metadata": {
        "colab": {
          "base_uri": "https://localhost:8080/"
        },
        "id": "hiDIKyr9WnIA",
        "outputId": "d68d0379-3787-43f1-f74a-cb5c5c270216"
      },
      "source": [
        "#Replace all odd numbers by -1\n",
        "import numpy as np\n",
        "arr=np.arange(0,10,1)\n",
        "arr[arr%2==1]=-1\n",
        "arr"
      ],
      "execution_count": 13,
      "outputs": [
        {
          "output_type": "execute_result",
          "data": {
            "text/plain": [
              "array([ 0, -1,  2, -1,  4, -1,  6, -1,  8, -1])"
            ]
          },
          "metadata": {
            "tags": []
          },
          "execution_count": 13
        }
      ]
    },
    {
      "cell_type": "code",
      "metadata": {
        "colab": {
          "base_uri": "https://localhost:8080/"
        },
        "id": "kQrhYlMmXI_t",
        "outputId": "ab415284-c12c-4b8b-9ac3-6f21f9063dcf"
      },
      "source": [
        "#To get common items between two numpy arrays\n",
        "a=[1,2,3,4,5,6,7,8,9]\n",
        "b=[3,5,8,9,15,16,17]\n",
        "np.intersect1d(a,b)"
      ],
      "execution_count": 14,
      "outputs": [
        {
          "output_type": "execute_result",
          "data": {
            "text/plain": [
              "array([3, 5, 8, 9])"
            ]
          },
          "metadata": {
            "tags": []
          },
          "execution_count": 14
        }
      ]
    },
    {
      "cell_type": "code",
      "metadata": {
        "colab": {
          "base_uri": "https://localhost:8080/"
        },
        "id": "gYkIRMeHXd2-",
        "outputId": "4c5d317d-a244-4104-fb9b-66ac2bafa1e9"
      },
      "source": [
        "#To make first letter upper\n",
        "import pandas as pd\n",
        "ser=pd.Series(['may','june','july','august','september',\n",
        "               'october','november','december'])\n",
        "ser.map(lambda x:x.title())"
      ],
      "execution_count": 15,
      "outputs": [
        {
          "output_type": "execute_result",
          "data": {
            "text/plain": [
              "0          May\n",
              "1         June\n",
              "2         July\n",
              "3       August\n",
              "4    September\n",
              "5      October\n",
              "6     November\n",
              "7     December\n",
              "dtype: object"
            ]
          },
          "metadata": {
            "tags": []
          },
          "execution_count": 15
        }
      ]
    },
    {
      "cell_type": "code",
      "metadata": {
        "id": "1o7vQNMzYG51"
      },
      "source": [
        "#To change column name\n",
        "\"\"\"iris.head()\n",
        "iris1=iris.rename(columns={'Sepal length':'S_Length'})\n",
        "iris1.head()\"\"\""
      ],
      "execution_count": null,
      "outputs": []
    },
    {
      "cell_type": "code",
      "metadata": {
        "id": "QKjK7eFBYi10"
      },
      "source": [
        ""
      ],
      "execution_count": null,
      "outputs": []
    }
  ]
}