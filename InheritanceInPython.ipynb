{
  "nbformat": 4,
  "nbformat_minor": 0,
  "metadata": {
    "colab": {
      "name": "InheritanceInPython",
      "provenance": [],
      "collapsed_sections": [],
      "authorship_tag": "ABX9TyOKn1Q2haUBFOQ68e1Nh9pR",
      "include_colab_link": true
    },
    "kernelspec": {
      "name": "python3",
      "display_name": "Python 3"
    },
    "language_info": {
      "name": "python"
    }
  },
  "cells": [
    {
      "cell_type": "markdown",
      "metadata": {
        "id": "view-in-github",
        "colab_type": "text"
      },
      "source": [
        "<a href=\"https://colab.research.google.com/github/mahluwal/PY_DSML_LibrariesFun/blob/main/InheritanceInPython.ipynb\" target=\"_parent\"><img src=\"https://colab.research.google.com/assets/colab-badge.svg\" alt=\"Open In Colab\"/></a>"
      ]
    },
    {
      "cell_type": "code",
      "metadata": {
        "colab": {
          "base_uri": "https://localhost:8080/"
        },
        "id": "yOkmUeyLIXBM",
        "outputId": "9e0c5327-c747-4dac-a95d-f6f11ea5acbd"
      },
      "source": [
        "class fruit:\n",
        "  name=\"Apple\"\n",
        "  color=\"yellow\"\n",
        "  taste=\"sweet\"\n",
        "  def get_name(self):\n",
        "    print(\"What Fruit are you\")\n",
        "    self.name=input()\n",
        "  def __init__ (self):\n",
        "    print(\"I am a fruit\")\n",
        "  def get_info(self):\n",
        "    print(self.name)\n",
        "    print(self.color)\n",
        "    print(self.taste)\n",
        "\n",
        "\n",
        "class citrus(fruit):\n",
        "  color=\"Orange\"\n",
        "  taste=\"Sour\"\n",
        "  size=\"Small\"\n",
        "  def __init__(self):\n",
        "    super().__init__()\n",
        "    print(\"I am citrus fruit\")\n",
        "\n",
        "fruita=fruit()\n",
        "fruita.get_info()\n",
        "fruitb=citrus()\n",
        "fruitb.get_info()\n",
        "\n"
      ],
      "execution_count": 9,
      "outputs": [
        {
          "output_type": "stream",
          "text": [
            "I am a fruit\n",
            "Apple\n",
            "yellow\n",
            "sweet\n",
            "I am a fruit\n",
            "I am citrus fruit\n",
            "Apple\n",
            "Orange\n",
            "Sour\n"
          ],
          "name": "stdout"
        }
      ]
    }
  ]
}